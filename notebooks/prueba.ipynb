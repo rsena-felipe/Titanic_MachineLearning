{
 "metadata": {
  "language_info": {
   "codemirror_mode": {
    "name": "ipython",
    "version": 3
   },
   "file_extension": ".py",
   "mimetype": "text/x-python",
   "name": "python",
   "nbconvert_exporter": "python",
   "pygments_lexer": "ipython3",
   "version": "3.8.5-final"
  },
  "orig_nbformat": 2,
  "kernelspec": {
   "name": "python3",
   "display_name": "Python 3"
  }
 },
 "nbformat": 4,
 "nbformat_minor": 2,
 "cells": [
  {
   "cell_type": "code",
   "execution_count": 1,
   "metadata": {
    "tags": []
   },
   "outputs": [],
   "source": [
    "import pandas as pd\n",
    "import numpy as np\n",
    "import sklearn\n",
    "import pickle as pkl\n",
    "\n",
    "import sys\n",
    "sys.path.append(\"../src/\")\n",
    "import my_functions"
   ]
  },
  {
   "cell_type": "code",
   "execution_count": 5,
   "metadata": {},
   "outputs": [],
   "source": [
    "input_file = \"../data/raw/train.csv\"\n",
    "output_file = \"../data/features/train_raul.pkl\" \n",
    "my_functions.build_features_raul(input_file, output_file, split=\"training\")"
   ]
  },
  {
   "cell_type": "code",
   "execution_count": 3,
   "metadata": {},
   "outputs": [
    {
     "output_type": "execute_result",
     "data": {
      "text/plain": "Survived          bool\nPclass        category\nSex           category\nAge            float64\nSibSp            int64\nParch            int64\nTicket        category\nFare           float64\nEmbarked      category\nTitle         category\nIs_Married        bool\nFsize             bool\nTypeF         category\ndtype: object"
     },
     "metadata": {},
     "execution_count": 3
    }
   ],
   "source": [
    "df.dtypes"
   ]
  },
  {
   "cell_type": "code",
   "execution_count": 3,
   "metadata": {},
   "outputs": [
    {
     "output_type": "execute_result",
     "data": {
      "text/plain": "Survived          bool\nPclass        category\nSex           category\nAge            float64\nSibSp            int64\nParch            int64\nTicket        category\nFare           float64\nEmbarked      category\nTitle         category\nIs_Married        bool\nFsize             bool\nTypeF         category\ndtype: object"
     },
     "metadata": {},
     "execution_count": 3
    }
   ],
   "source": [
    "df.dtypes"
   ]
  },
  {
   "cell_type": "markdown",
   "metadata": {},
   "source": [
    "## Preprocess"
   ]
  },
  {
   "cell_type": "code",
   "execution_count": 2,
   "metadata": {},
   "outputs": [],
   "source": [
    "def execute(input_file, output_file):\n",
    "    data = pd.read_csv(input_file, sep = \";\")\n",
    "    data = data.dropna()\n",
    "    del(data[\"Name\"])\n",
    "    del(data[\"Ticket\"])\n",
    "    del(data[\"Cabin\"])\n",
    "    \n",
    "\n",
    "    data.to_csv(output_file)"
   ]
  },
  {
   "cell_type": "code",
   "execution_count": 9,
   "metadata": {},
   "outputs": [],
   "source": [
    "input_file=\"../data/raw/val.csv\"\n",
    "output_file=\"../data/preprocess/last_val.csv\""
   ]
  },
  {
   "cell_type": "code",
   "execution_count": 10,
   "metadata": {},
   "outputs": [],
   "source": [
    "execute(input_file=input_file,output_file=output_file)"
   ]
  },
  {
   "cell_type": "markdown",
   "metadata": {},
   "source": [
    "## Build Features"
   ]
  },
  {
   "cell_type": "code",
   "execution_count": 11,
   "metadata": {},
   "outputs": [],
   "source": [
    "def execute(input_file, output_file, force_write = True):\n",
    "    \"\"\"Builds features\n",
    "\n",
    "    Args:\n",
    "        input_file (str): input file.\n",
    "    \"\"\"\n",
    "    df = pd.read_csv(input_file)\n",
    "\n",
    "    df[\"Sex\"] = df[\"Sex\"].replace(\"male\", 0)\n",
    "    df[\"Sex\"] = df[\"Sex\"].replace(\"female\", 1)\n",
    "\n",
    "    embarked_dict = {}\n",
    "    embarked_dict_values = 0\n",
    "    for i in df.Embarked:\n",
    "        if i in embarked_dict.keys():\n",
    "            pass\n",
    "        else:\n",
    "            embarked_dict_values = embarked_dict_values + 1\n",
    "            embarked_dict[i] = embarked_dict_values\n",
    "    \n",
    "    for i in embarked_dict.keys():\n",
    "        df[\"Embarked\"].replace(i, embarked_dict[i], inplace = True)\n",
    "\n",
    "    df[\"FamilySize\"] = df[\"SibSp\"] + df[\"Parch\"] + 1\n",
    "    df[\"IsAlone\"] = 0\n",
    "    df.loc[df[\"FamilySize\"] == 1, \"IsAlone\"] = 1\n",
    "\n",
    "    df.to_csv(output_file)"
   ]
  },
  {
   "cell_type": "code",
   "execution_count": 16,
   "metadata": {},
   "outputs": [],
   "source": [
    "input_file=\"../data/preprocess/last_val.csv\"\n",
    "output_file=\"../data/features/last_val_buildfeatures.csv\""
   ]
  },
  {
   "cell_type": "code",
   "execution_count": 17,
   "metadata": {},
   "outputs": [],
   "source": [
    "execute(input_file=input_file,output_file=output_file)"
   ]
  },
  {
   "cell_type": "markdown",
   "metadata": {},
   "source": [
    "## Train"
   ]
  },
  {
   "cell_type": "code",
   "execution_count": 18,
   "metadata": {},
   "outputs": [],
   "source": [
    "# Split the data for training.\n",
    "df = pd.read_csv(\"../data/features/last_val_buildfeatures.csv\")\n",
    "\n",
    "y = df[\"Survived\"]\n",
    "\n",
    "tr_col = []\n",
    "for c in df.columns: #Iterate over the dictionary of column names\n",
    "    if c == \"Survived\":\n",
    "        pass\n",
    "    else:\n",
    "        tr_col.append(c) #List of column names"
   ]
  },
  {
   "cell_type": "code",
   "execution_count": 21,
   "metadata": {},
   "outputs": [
    {
     "output_type": "execute_result",
     "data": {
      "text/plain": "Unnamed: 0        int64\nUnnamed: 0.1      int64\nPassengerId       int64\nSurvived          int64\nPclass            int64\nSex               int64\nAge             float64\nSibSp             int64\nParch             int64\nFare            float64\nEmbarked          int64\nFamilySize        int64\nIsAlone           int64\ndtype: object"
     },
     "metadata": {},
     "execution_count": 21
    }
   ],
   "source": [
    "df.dtypes"
   ]
  },
  {
   "cell_type": "code",
   "execution_count": 22,
   "metadata": {},
   "outputs": [],
   "source": [
    "df2=pd.read_csv(\"../data/features/val_RF_roche.csv\")"
   ]
  },
  {
   "cell_type": "code",
   "execution_count": 23,
   "metadata": {},
   "outputs": [
    {
     "output_type": "execute_result",
     "data": {
      "text/plain": "PassengerId      int64\nSurvived         int64\nPclass           int64\nSex              int64\nAge            float64\nSibSp            int64\nParch            int64\nFare           float64\nEmbarked        object\nFamilySize       int64\nIsAlone          int64\ndtype: object"
     },
     "metadata": {},
     "execution_count": 23
    }
   ],
   "source": [
    "df2.dtypes"
   ]
  },
  {
   "cell_type": "code",
   "execution_count": 19,
   "metadata": {},
   "outputs": [],
   "source": [
    "# Create a classifier and select scoring methods.\n",
    "from sklearn.ensemble import RandomForestClassifier\n",
    "clf = RandomForestClassifier(n_estimators=10)\n",
    "\n",
    "\n",
    "# # Fit full model and predict on both train and test.\n",
    "# clf.fit(df[tr_col], y)\n",
    "# preds = clf.predict(df[tr_col])\n",
    "# metric_name = \"train_accuracy\" #Bad to put it here it is just a string\n",
    "# metric_result = sklearn.metrics.accuracy_score(y, preds)"
   ]
  },
  {
   "cell_type": "code",
   "execution_count": null,
   "metadata": {},
   "outputs": [],
   "source": [
    "#See what this does, no file data/model.pkl \n",
    "\n",
    "# model_pickle = open(\"data/model.pkl\", 'wb')\n",
    "# pkl.dump(clf, model_pickle)\n",
    "# model_pickle.close()\n"
   ]
  },
  {
   "cell_type": "code",
   "execution_count": 24,
   "metadata": {
    "tags": []
   },
   "outputs": [
    {
     "output_type": "stream",
     "name": "stdout",
     "text": "train_accuracy for the model is 0.9822485207100592\n"
    }
   ],
   "source": [
    "# Return metrics and model.\n",
    "info = \"\"\n",
    "info = info + metric_name # No need to put info + metric_name\n",
    "info = info + \" for the model is \"\n",
    "info = info + str(metric_result)\n",
    "print(info)"
   ]
  },
  {
   "cell_type": "markdown",
   "metadata": {},
   "source": [
    "## Prediction"
   ]
  },
  {
   "cell_type": "code",
   "execution_count": 25,
   "metadata": {
    "tags": []
   },
   "outputs": [
    {
     "output_type": "stream",
     "name": "stdout",
     "text": "accuracy is 0.7857142857142857\n"
    }
   ],
   "source": [
    "df = pd.read_csv(\"../output/val_buildfeatures.csv\")\n",
    "\n",
    "df.dropna(inplace = True)\n",
    "\n",
    "target = df[\"Survived\"]\n",
    "del(df[\"Survived\"])\n",
    "    \n",
    "# model_unpickle = open(\"data/model.pkl\", 'rb')\n",
    "# model = pkl.load(model_unpickle)\n",
    "# model.close()\n",
    "\n",
    "predictions = clf.predict(df)\n",
    "# Reassign target (if it was present) and predictions.\n",
    "df[\"prediction\"] = predictions\n",
    "df[\"target\"] = target\n",
    "\n",
    "ok = 0\n",
    "for i in df.iterrows():\n",
    "    if (i[1][\"target\"] == i[1][\"prediction\"]):\n",
    "        ok = ok + 1\n",
    "\n",
    "print(\"accuracy is\", ok / df.shape[0])"
   ]
  },
  {
   "cell_type": "code",
   "execution_count": 26,
   "metadata": {},
   "outputs": [
    {
     "output_type": "execute_result",
     "data": {
      "text/plain": "   Unnamed: 0  Unnamed: 0.1  PassengerId  Pclass  Sex   Age  SibSp  Parch  \\\n0           0             1            2       1    1  38.0      1      0   \n1           1             3            4       1    1  35.0      1      0   \n\n      Fare  Embarked  FamilySize  IsAlone  prediction  target  \n0  71.2833         1           2        0           1       1  \n1  53.1000         2           2        0           1       1  ",
      "text/html": "<div>\n<style scoped>\n    .dataframe tbody tr th:only-of-type {\n        vertical-align: middle;\n    }\n\n    .dataframe tbody tr th {\n        vertical-align: top;\n    }\n\n    .dataframe thead th {\n        text-align: right;\n    }\n</style>\n<table border=\"1\" class=\"dataframe\">\n  <thead>\n    <tr style=\"text-align: right;\">\n      <th></th>\n      <th>Unnamed: 0</th>\n      <th>Unnamed: 0.1</th>\n      <th>PassengerId</th>\n      <th>Pclass</th>\n      <th>Sex</th>\n      <th>Age</th>\n      <th>SibSp</th>\n      <th>Parch</th>\n      <th>Fare</th>\n      <th>Embarked</th>\n      <th>FamilySize</th>\n      <th>IsAlone</th>\n      <th>prediction</th>\n      <th>target</th>\n    </tr>\n  </thead>\n  <tbody>\n    <tr>\n      <th>0</th>\n      <td>0</td>\n      <td>1</td>\n      <td>2</td>\n      <td>1</td>\n      <td>1</td>\n      <td>38.0</td>\n      <td>1</td>\n      <td>0</td>\n      <td>71.2833</td>\n      <td>1</td>\n      <td>2</td>\n      <td>0</td>\n      <td>1</td>\n      <td>1</td>\n    </tr>\n    <tr>\n      <th>1</th>\n      <td>1</td>\n      <td>3</td>\n      <td>4</td>\n      <td>1</td>\n      <td>1</td>\n      <td>35.0</td>\n      <td>1</td>\n      <td>0</td>\n      <td>53.1000</td>\n      <td>2</td>\n      <td>2</td>\n      <td>0</td>\n      <td>1</td>\n      <td>1</td>\n    </tr>\n  </tbody>\n</table>\n</div>"
     },
     "metadata": {},
     "execution_count": 26
    }
   ],
   "source": [
    "df.head(2)"
   ]
  }
 ]
}