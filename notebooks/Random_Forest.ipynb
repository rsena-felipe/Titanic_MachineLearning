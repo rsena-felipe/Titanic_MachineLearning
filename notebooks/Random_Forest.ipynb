{
 "metadata": {
  "language_info": {
   "codemirror_mode": {
    "name": "ipython",
    "version": 3
   },
   "file_extension": ".py",
   "mimetype": "text/x-python",
   "name": "python",
   "nbconvert_exporter": "python",
   "pygments_lexer": "ipython3",
   "version": "3.8.5-final"
  },
  "orig_nbformat": 2,
  "kernelspec": {
   "name": "python38564bitrochecondab4ee1a3b891249bd904de8a082ae0457",
   "display_name": "Python 3.8.5 64-bit ('roche': conda)"
  }
 },
 "nbformat": 4,
 "nbformat_minor": 2,
 "cells": [
  {
   "cell_type": "code",
   "execution_count": 1,
   "metadata": {},
   "outputs": [],
   "source": [
    "import sys\n",
    "sys.path.append(\"../src/\")\n",
    "import my_functions\n",
    "\n",
    "from sklearn.ensemble import RandomForestClassifier\n",
    "import pandas as pd"
   ]
  },
  {
   "cell_type": "markdown",
   "metadata": {},
   "source": [
    "# Preprocess"
   ]
  },
  {
   "cell_type": "markdown",
   "metadata": {},
   "source": [
    "### Roche"
   ]
  },
  {
   "cell_type": "code",
   "execution_count": 2,
   "metadata": {},
   "outputs": [],
   "source": [
    "# Training\n",
    "input_file = \"../data/raw/train.csv\"\n",
    "output_file = \"../data/preprocess/train_preprocess_roche.csv\"\n",
    "\n",
    "my_functions.preprocess_roche(input_file, output_file)\n",
    "\n",
    "# Validation\n",
    "input_file = \"../data/raw/val.csv\"\n",
    "output_file = \"../data/preprocess/val_preprocess_roche.csv\"\n",
    "\n",
    "my_functions.preprocess_roche(input_file, output_file)"
   ]
  },
  {
   "cell_type": "markdown",
   "metadata": {},
   "source": [
    "# Build Features"
   ]
  },
  {
   "cell_type": "markdown",
   "metadata": {},
   "source": [
    "### Roche"
   ]
  },
  {
   "cell_type": "code",
   "execution_count": 3,
   "metadata": {},
   "outputs": [],
   "source": [
    "# Training\n",
    "input_file = \"../data/preprocess/train_preprocess_roche.csv\"\n",
    "output_file = \"../data/features/train_RF_roche.csv\"\n",
    "\n",
    "my_functions.build_features_roche(input_file,output_file)\n",
    "\n",
    "# Validation\n",
    "input_file = \"../data/preprocess/val_preprocess_roche.csv\"\n",
    "output_file = \"../data/features/val_RF_roche.csv\"\n",
    "\n",
    "my_functions.build_features_roche(input_file,output_file)"
   ]
  },
  {
   "cell_type": "markdown",
   "metadata": {},
   "source": [
    "# Train Model"
   ]
  },
  {
   "cell_type": "markdown",
   "metadata": {},
   "source": [
    "### Roche"
   ]
  },
  {
   "cell_type": "markdown",
   "metadata": {},
   "source": [
    "#### Create Features and Target"
   ]
  },
  {
   "cell_type": "code",
   "execution_count": 4,
   "metadata": {},
   "outputs": [],
   "source": [
    "# Training \n",
    "input_file = \"../data/features/train_RF_roche.csv\"\n",
    "X_train, y_train = my_functions.create_features_target(input_file, target_column = \"Survived\", index_column = \"PassengerId\")"
   ]
  },
  {
   "cell_type": "markdown",
   "metadata": {},
   "source": [
    "#### Fit the model"
   ]
  },
  {
   "cell_type": "code",
   "execution_count": 5,
   "metadata": {},
   "outputs": [
    {
     "output_type": "execute_result",
     "data": {
      "text/plain": "RandomForestClassifier(n_estimators=10)"
     },
     "metadata": {},
     "execution_count": 5
    }
   ],
   "source": [
    "rf_roche = RandomForestClassifier(n_estimators=10)\n",
    "rf_roche.fit(X_train, y_train)"
   ]
  },
  {
   "cell_type": "markdown",
   "metadata": {},
   "source": [
    "## Evaluate Model"
   ]
  },
  {
   "cell_type": "markdown",
   "metadata": {},
   "source": [
    "#### Make Predictions"
   ]
  },
  {
   "cell_type": "code",
   "execution_count": 6,
   "metadata": {},
   "outputs": [],
   "source": [
    "train_file = \"../data/features/train_RF_roche.csv\"\n",
    "val_file = \"../data/features/val_RF_roche.csv\"\n",
    "model = rf_roche\n",
    "output_file = \"../data/predictions/predictions_RF_roche.csv\"\n",
    "\n",
    "my_functions.save_predictions(train_file, val_file, output_file, model)"
   ]
  }
 ]
}